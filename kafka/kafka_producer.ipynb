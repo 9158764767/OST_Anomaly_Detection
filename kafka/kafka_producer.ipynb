{
 "cells": [
  {
   "cell_type": "code",
   "execution_count": null,
   "metadata": {},
   "outputs": [],
   "source": [
    "from kafka import KafkaConsumer, KafkaProducer\n",
    "\n",
    "import json\n",
    "\n",
    "from json import loads\n",
    "\n",
    "from csv import DictReader\n",
    "\n",
    "import time\n",
    "\n",
    "\n",
    "\n",
    "# Set up for Kafka Producer\n",
    "\n",
    "bootstrap_servers = ['localhost:9092']\n",
    "\n",
    "topicname = 'swat_001'\n",
    "\n",
    "producer = KafkaProducer(bootstrap_servers = bootstrap_servers)\n",
    "\n",
    "producer = KafkaProducer()\n",
    "\n",
    "\n",
    "with open('./dataset/SWat_merged.csv','r') as new_obj:\n",
    "\n",
    "    csv_dict_reader = DictReader(new_obj)\n",
    "    \n",
    "    index = 0\n",
    "\n",
    "    for row in csv_dict_reader:\n",
    "\n",
    "        producer.send(topicname, json.dumps(row).encode('utf-8'))\n",
    "        \n",
    "        print(\"Data sent successfully\",row)\n",
    "        \n",
    "        index += 1\n",
    "        \n",
    "        if (index % 20) == 0:\n",
    "            time.sleep(10)\n"
   ]
  }
 ],
 "metadata": {
  "kernelspec": {
   "display_name": "Python 3.10.13 64-bit",
   "language": "python",
   "name": "python3"
  },
  "language_info": {
   "codemirror_mode": {
    "name": "ipython",
    "version": 3
   },
   "file_extension": ".py",
   "mimetype": "text/x-python",
   "name": "python",
   "nbconvert_exporter": "python",
   "pygments_lexer": "ipython3",
   "version": "3.10.13"
  },
  "vscode": {
   "interpreter": {
    "hash": "bd385fe162c5ca0c84973b7dd5c518456272446b2b64e67c2a69f949ca7a1754"
   }
  }
 },
 "nbformat": 4,
 "nbformat_minor": 5
}
