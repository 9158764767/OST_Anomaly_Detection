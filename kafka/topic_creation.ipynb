{
 "cells": [
  {
   "cell_type": "code",
   "execution_count": 1,
   "metadata": {},
   "outputs": [],
   "source": [
    "from confluent_kafka.admin import AdminClient, NewTopic"
   ]
  },
  {
   "cell_type": "code",
   "execution_count": 2,
   "metadata": {},
   "outputs": [],
   "source": [
    "# Kafka broker settings\n",
    "broker = 'localhost:9092'\n",
    "\n",
    "# Create AdminClient instance\n",
    "admin_client = AdminClient({'bootstrap.servers': broker})"
   ]
  },
  {
   "cell_type": "code",
   "execution_count": 3,
   "metadata": {},
   "outputs": [
    {
     "data": {
      "text/plain": [
       "{'swat': <Future at 0x1f7609322f0 state=running>}"
      ]
     },
     "execution_count": 3,
     "metadata": {},
     "output_type": "execute_result"
    }
   ],
   "source": [
    "# Define the topic configuration (optional)\n",
    "topic_config = {\n",
    "    'cleanup.policy': 'delete',  # Example configuration, adjust as needed\n",
    "    'retention.ms': '3600000'\n",
    "}\n",
    "\n",
    "# Define the topic\n",
    "topic_name = 'swat'\n",
    "\n",
    "# Create a NewTopic instance\n",
    "new_topic = NewTopic(topic=topic_name, num_partitions=1, replication_factor=1, config=topic_config)\n",
    "\n",
    "# Create the topic\n",
    "admin_client.create_topics([new_topic])\n",
    "\n"
   ]
  },
  {
   "cell_type": "code",
   "execution_count": 5,
   "metadata": {},
   "outputs": [
    {
     "name": "stdout",
     "output_type": "stream",
     "text": [
      "Available topics:\n",
      "swat\n"
     ]
    }
   ],
   "source": [
    "topics = admin_client.list_topics().topics\n",
    "\n",
    "print(\"Available topics:\")\n",
    "for topic in topics:\n",
    "    print(topic)"
   ]
  }
 ],
 "metadata": {
  "kernelspec": {
   "display_name": "Python 3",
   "language": "python",
   "name": "python3"
  },
  "language_info": {
   "codemirror_mode": {
    "name": "ipython",
    "version": 3
   },
   "file_extension": ".py",
   "mimetype": "text/x-python",
   "name": "python",
   "nbconvert_exporter": "python",
   "pygments_lexer": "ipython3",
   "version": "3.10.11"
  }
 },
 "nbformat": 4,
 "nbformat_minor": 2
}
