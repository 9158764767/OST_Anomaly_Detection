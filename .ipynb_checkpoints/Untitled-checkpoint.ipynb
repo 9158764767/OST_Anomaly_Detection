{
 "cells": [
  {
   "cell_type": "code",
   "execution_count": 3,
   "id": "51b82b6f",
   "metadata": {},
   "outputs": [
    {
     "name": "stdout",
     "output_type": "stream",
     "text": [
      "Requirement already satisfied: pyspark in c:\\users\\souad\\anaconda3\\lib\\site-packages (3.5.0)\n",
      "Requirement already satisfied: py4j==0.10.9.7 in c:\\users\\souad\\anaconda3\\lib\\site-packages (from pyspark) (0.10.9.7)\n",
      "Note: you may need to restart the kernel to use updated packages.\n"
     ]
    }
   ],
   "source": [
    "pip install pyspark"
   ]
  },
  {
   "cell_type": "code",
   "execution_count": 11,
   "id": "3686548c",
   "metadata": {},
   "outputs": [],
   "source": [
    "import json\n",
    "import os\n",
    "import pyspark\n",
    "from pyspark.sql import SparkSession\n",
    "from pyspark.sql.functions import *\n",
    "from pyspark.sql.types import *"
   ]
  },
  {
   "cell_type": "code",
   "execution_count": 12,
   "id": "76402a09",
   "metadata": {},
   "outputs": [],
   "source": [
    "schema = StructType([\n",
    "    StructField(\"Timestamp\", TimestampType(), True),\n",
    "    StructField(\"FIT101\", DoubleType(), True),\n",
    "    StructField(\"LIT101\", DoubleType(), True),\n",
    "    StructField(\"MV101\", DoubleType(), True),\n",
    "    StructField(\"P101\", DoubleType(), True),\n",
    "    StructField(\"P102\", DoubleType(), True),\n",
    "    StructField(\"AIT201\", DoubleType(), True),\n",
    "    StructField(\"AIT202\", DoubleType(), True),\n",
    "    StructField(\"AIT203\", DoubleType(), True),\n",
    "    StructField(\"FIT201\", DoubleType(), True),\n",
    "    StructField(\"MV201\", DoubleType(), True),\n",
    "    StructField(\"P201\", DoubleType(), True),\n",
    "    StructField(\"P202\", DoubleType(), True),\n",
    "    StructField(\"P203\", DoubleType(), True),\n",
    "    StructField(\"P204\", DoubleType(), True),\n",
    "    StructField(\"P205\", DoubleType(), True),\n",
    "    StructField(\"P206\", DoubleType(), True),\n",
    "    StructField(\"DPIT301\", DoubleType(), True),\n",
    "    StructField(\"FIT301\", DoubleType(), True),\n",
    "    StructField(\"LIT301\", DoubleType(), True),\n",
    "    StructField(\"MV301\", DoubleType(), True),\n",
    "    StructField(\"MV302\", DoubleType(), True),\n",
    "    StructField(\"MV303\", DoubleType(), True),\n",
    "    StructField(\"MV304\", DoubleType(), True),\n",
    "    StructField(\"P301\", DoubleType(), True),\n",
    "    StructField(\"P302\", DoubleType(), True),\n",
    "    StructField(\"AIT401\", DoubleType(), True),\n",
    "    StructField(\"AIT402\", DoubleType(), True),\n",
    "    StructField(\"FIT401\", DoubleType(), True),\n",
    "    StructField(\"LIT401\", DoubleType(), True),\n",
    "    StructField(\"P401\", DoubleType(), True),\n",
    "    StructField(\"P402\", DoubleType(), True),\n",
    "    StructField(\"P403\", DoubleType(), True),\n",
    "    StructField(\"P404\", DoubleType(), True),\n",
    "    StructField(\"UV401\", DoubleType(), True),\n",
    "    StructField(\"AIT501\", DoubleType(), True),\n",
    "    StructField(\"AIT502\", DoubleType(), True),\n",
    "    StructField(\"AIT503\", DoubleType(), True),\n",
    "    StructField(\"AIT504\", DoubleType(), True),\n",
    "    StructField(\"FIT501\", DoubleType(), True),\n",
    "    StructField(\"FIT502\", DoubleType(), True),\n",
    "    StructField(\"FIT503\", DoubleType(), True),\n",
    "    StructField(\"FIT504\", DoubleType(), True),\n",
    "    StructField(\"P501\", DoubleType(), True),\n",
    "    StructField(\"P502\", DoubleType(), True),\n",
    "    StructField(\"PIT501\", DoubleType(), True),\n",
    "    StructField(\"PIT502\", DoubleType(), True),\n",
    "    StructField(\"PIT503\", DoubleType(), True),\n",
    "    StructField(\"FIT601\", DoubleType(), True),\n",
    "    StructField(\"P601\", DoubleType(), True),\n",
    "    StructField(\"P602\", DoubleType(), True),\n",
    "    StructField(\"P603\", DoubleType(), True),\n",
    "    StructField(\"Normal/Attack\", StringType(), True)\n",
    "])"
   ]
  },
  {
   "cell_type": "code",
   "execution_count": null,
   "id": "12985b5d",
   "metadata": {},
   "outputs": [],
   "source": [
    "# Create a SparkSession\n",
    "spark = SparkSession.builder.appName(\"KafkaPreprocessing\").getOrCreate()\n",
    "\n",
    "\n",
    "df = spark.readStream.format(\"kafka\") \\\n",
    "    .option(\"kafka.bootstrap.servers\", \"localhost:9092\") \\\n",
    "    .option(\"subscribe\", \"swat_dataset\") \\\n",
    "    .load()"
   ]
  },
  {
   "cell_type": "code",
   "execution_count": null,
   "id": "f9a5a929",
   "metadata": {},
   "outputs": [],
   "source": [
    "   # Convert the Kafka messages from binary to string\n",
    "    df = df.selectExpr(\"CAST(value AS STRING)\") \n",
    "                       \n",
    "    df = df.select(from_json(df.value, schema).alias(\"data\")).select(\"data.*\")"
   ]
  },
  {
   "cell_type": "code",
   "execution_count": 20,
   "id": "b24bd67e",
   "metadata": {},
   "outputs": [
    {
     "ename": "NameError",
     "evalue": "name 'df' is not defined",
     "output_type": "error",
     "traceback": [
      "\u001b[1;31m---------------------------------------------------------------------------\u001b[0m",
      "\u001b[1;31mNameError\u001b[0m                                 Traceback (most recent call last)",
      "Input \u001b[1;32mIn [20]\u001b[0m, in \u001b[0;36m<cell line: 1>\u001b[1;34m()\u001b[0m\n\u001b[1;32m----> 1\u001b[0m query \u001b[38;5;241m=\u001b[39m \u001b[43mdf\u001b[49m\u001b[38;5;241m.\u001b[39mwriteStream\u001b[38;5;241m.\u001b[39moutputMode(\u001b[38;5;124m\"\u001b[39m\u001b[38;5;124mappend\u001b[39m\u001b[38;5;124m\"\u001b[39m)\u001b[38;5;241m.\u001b[39mformat(\u001b[38;5;124m\"\u001b[39m\u001b[38;5;124mconsole\u001b[39m\u001b[38;5;124m\"\u001b[39m)\u001b[38;5;241m.\u001b[39mstart()\n\u001b[0;32m      3\u001b[0m \u001b[38;5;66;03m# Wait for the stream to finish\u001b[39;00m\n\u001b[0;32m      4\u001b[0m query\u001b[38;5;241m.\u001b[39mawaitTermination()\n",
      "\u001b[1;31mNameError\u001b[0m: name 'df' is not defined"
     ]
    }
   ],
   "source": [
    "query = df.writeStream.outputMode(\"append\").format(\"console\").start()\n",
    "\n",
    "# Wait for the stream to finish\n",
    "query.awaitTermination()"
   ]
  },
  {
   "cell_type": "code",
   "execution_count": null,
   "id": "f165b11b",
   "metadata": {},
   "outputs": [],
   "source": []
  }
 ],
 "metadata": {
  "kernelspec": {
   "display_name": "Python 3 (ipykernel)",
   "language": "python",
   "name": "python3"
  },
  "language_info": {
   "codemirror_mode": {
    "name": "ipython",
    "version": 3
   },
   "file_extension": ".py",
   "mimetype": "text/x-python",
   "name": "python",
   "nbconvert_exporter": "python",
   "pygments_lexer": "ipython3",
   "version": "3.9.12"
  }
 },
 "nbformat": 4,
 "nbformat_minor": 5
}
